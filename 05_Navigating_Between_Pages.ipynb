{
 "cells": [
  {
   "cell_type": "markdown",
   "metadata": {},
   "source": [
    "# <center>[Navigating Between Pages](https://nextjs.org/learn/dashboard-app/navigating-between-pages)</center>\n",
    "\n",
    "In the previous chapter, you created the dashboard layout and pages. Now, let's add some links to allow users to navigate between the dashboard routes.\n",
    "\n",
    "**In this chapter...**\n",
    "\n",
    "Here are the topics we’ll cover\n",
    "\n",
    "1. How to use the `next/link` component.\n",
    "\n",
    "2. How to show an active link with the `usePathname()` hook.\n",
    "\n",
    "3. How navigation works in Next.js."
   ]
  },
  {
   "cell_type": "markdown",
   "metadata": {},
   "source": [
    "## Why optimize navigation?"
   ]
  },
  {
   "cell_type": "markdown",
   "metadata": {},
   "source": [
    "To link between pages, you'd traditionally use the `<a>` HTML element. At the moment, the sidebar links use `<a>` elements, but notice what happens when you navigate between the home, invoices, and customers pages on your browser.\n",
    "\n",
    "Did you see it?\n",
    "\n",
    "There's a full page refresh on each page navigation!"
   ]
  },
  {
   "cell_type": "markdown",
   "metadata": {},
   "source": [
    "## The `<Link>` component"
   ]
  },
  {
   "cell_type": "markdown",
   "metadata": {},
   "source": [
    "In Next.js, you can use the `<Link />` Component to link between pages in your application. `<Link>` allows you to do [client-side navigation](https://nextjs.org/docs/app/building-your-application/routing/linking-and-navigating#how-routing-and-navigation-works) with JavaScript.\n",
    "\n",
    "To use the `<Link />` component, open `/app/ui/dashboard/nav-links.tsx`, and import the `Link` component from [`next/link`](https://nextjs.org/docs/app/api-reference/components/link). Then, replace the `<a>` tag with `<Link>`:"
   ]
  },
  {
   "cell_type": "code",
   "execution_count": null,
   "metadata": {
    "vscode": {
     "languageId": "typescriptreact"
    }
   },
   "outputs": [],
   "source": [
    "// /app/ui/dashboard/nav-links.tsx\n",
    "\n",
    "import {\n",
    "    UserGroupIcon,\n",
    "    HomeIcon,\n",
    "    DocumentDuplicateIcon,\n",
    "  } from '@heroicons/react/24/outline';\n",
    "  import Link from 'next/link';\n",
    "   \n",
    "  // ...\n",
    "   \n",
    "  export default function NavLinks() {\n",
    "    return (\n",
    "      <>\n",
    "        {links.map((link) => {\n",
    "          const LinkIcon = link.icon;\n",
    "          return (\n",
    "            <Link\n",
    "              key={link.name}\n",
    "              href={link.href}\n",
    "              className=\"flex h-[48px] grow items-center justify-center gap-2 rounded-md bg-gray-50 p-3 text-sm font-medium hover:bg-sky-100 hover:text-blue-600 md:flex-none md:justify-start md:p-2 md:px-3\"\n",
    "            >\n",
    "              <LinkIcon className=\"w-6\" />\n",
    "              <p className=\"hidden md:block\">{link.name}</p>\n",
    "            </Link>\n",
    "          );\n",
    "        })}\n",
    "      </>\n",
    "    );\n",
    "  }"
   ]
  },
  {
   "cell_type": "markdown",
   "metadata": {},
   "source": [
    "As you can see, the `Link` component is similar to using `<a>` tags, but instead of `<a href=\"…\">`, you use `<Link href=\"…\">`.\n",
    "\n",
    "Save your changes and check to see if it works in your localhost. You should now be able to navigate between the pages without seeing a full refresh. Although parts of your application are rendered on the server, there's no full page refresh, making it feel like a web app. Why is that?"
   ]
  },
  {
   "cell_type": "markdown",
   "metadata": {},
   "source": [
    "### Automatic code-splitting and prefetching"
   ]
  },
  {
   "cell_type": "markdown",
   "metadata": {},
   "source": [
    "To improve the navigation experience, Next.js automatically code splits your application by route segments. This is different from a traditional React [SPA](https://developer.mozilla.org/en-US/docs/Glossary/SPA), where the browser loads all your application code on initial load.\n",
    "\n",
    "Splitting code by routes means that pages become isolated. If a certain page throws an error, the rest of the application will still work.\n",
    "\n",
    "Furthermore, in production, whenever [`<Link>`](https://nextjs.org/docs/api-reference/next/link) components appear in the browser's viewport, Next.js automatically prefetches the code for the linked route in the background. By the time the user clicks the link, the code for the destination page will already be loaded in the background, and this is what makes the page transition near-instant!\n",
    "\n",
    "Learn more about how [navigation works](https://nextjs.org/docs/app/building-your-application/routing/linking-and-navigating#how-routing-and-navigation-works)."
   ]
  },
  {
   "cell_type": "markdown",
   "metadata": {},
   "source": [
    "## <center>It’s time to take a quiz!</center>\n",
    "\n",
    "<center>Test your knowledge and see what you’ve just learned.</center>"
   ]
  },
  {
   "cell_type": "markdown",
   "metadata": {},
   "source": [
    "What does Next.js do when a `<Link>` component appears in the browser’s viewport in a production environment?\n",
    "\n",
    "A. Downloads additional CSS\n",
    "\n",
    "B. Preloads images\n",
    "\n",
    "C. Prefetches the code for the linked route\n",
    "\n",
    "D. Enables lazy loading for the linked route"
   ]
  },
  {
   "cell_type": "markdown",
   "metadata": {},
   "source": [
    "**Prefetches the code for the linked route**: Next.js automatically prefetches the code for the linked route in the background. By the time the user clicks the link, the code for the destination page will already be loaded in the background, and this is what makes the page transition near-instant!"
   ]
  },
  {
   "cell_type": "markdown",
   "metadata": {},
   "source": [
    "## Pattern: Showing active links"
   ]
  },
  {
   "cell_type": "markdown",
   "metadata": {},
   "source": [
    "A common UI pattern is to show an active link to indicate to the user what page they are currently on. To do this, you need to get the user's current path from the URL. Next.js provides a hook called [`usePathname()`](https://nextjs.org/docs/app/api-reference/functions/use-pathname) that you can use to check the path and implement this pattern.\n",
    "\n",
    "Since [`usePathname()`](https://nextjs.org/docs/app/api-reference/functions/use-pathname) is a hook, you'll need to turn `nav-links.tsx` into a Client Component. Add React's `\"use client\"` directive to the top of the file, then import `usePathname()` from `next/navigation`:"
   ]
  },
  {
   "cell_type": "code",
   "execution_count": null,
   "metadata": {
    "vscode": {
     "languageId": "typescriptreact"
    }
   },
   "outputs": [],
   "source": [
    "// /app/ui/dashboard/nav-links.tsx\n",
    "\n",
    "'use client';\n",
    " \n",
    "import {\n",
    "  UserGroupIcon,\n",
    "  HomeIcon,\n",
    "  InboxIcon,\n",
    "} from '@heroicons/react/24/outline';\n",
    "import Link from 'next/link';\n",
    "import { usePathname } from 'next/navigation';\n",
    " \n",
    "// ..."
   ]
  },
  {
   "cell_type": "markdown",
   "metadata": {},
   "source": [
    "Next, assign the path to a variable called `pathname` inside your `<NavLinks />` component:"
   ]
  },
  {
   "cell_type": "code",
   "execution_count": null,
   "metadata": {
    "vscode": {
     "languageId": "typescriptreact"
    }
   },
   "outputs": [],
   "source": [
    "// /app/ui/dashboard/nav-links.tsx\n",
    "\n",
    "export default function NavLinks() {\n",
    "    const pathname = usePathname();\n",
    "    // ...\n",
    "  }"
   ]
  },
  {
   "cell_type": "markdown",
   "metadata": {},
   "source": [
    "You can use the `clsx` library introduced in the chapter on [CSS styling](02_CSS_Styling.ipynb) to conditionally apply class names when the link is active. When `link.href` matches the `pathname`, the link should be displayed with blue text and a light blue background.\n",
    "\n",
    "Here's the final code for `nav-links.tsx`:"
   ]
  },
  {
   "cell_type": "code",
   "execution_count": null,
   "metadata": {
    "vscode": {
     "languageId": "typescriptreact"
    }
   },
   "outputs": [],
   "source": [
    "// /app/ui/dashboard/nav-links.tsx\n",
    "\n",
    "'use client';\n",
    " \n",
    "import {\n",
    "  UserGroupIcon,\n",
    "  HomeIcon,\n",
    "  DocumentDuplicateIcon,\n",
    "} from '@heroicons/react/24/outline';\n",
    "import Link from 'next/link';\n",
    "import { usePathname } from 'next/navigation';\n",
    "import clsx from 'clsx';\n",
    " \n",
    "// ...\n",
    " \n",
    "export default function NavLinks() {\n",
    "  const pathname = usePathname();\n",
    " \n",
    "  return (\n",
    "    <>\n",
    "      {links.map((link) => {\n",
    "        const LinkIcon = link.icon;\n",
    "        return (\n",
    "          <Link\n",
    "            key={link.name}\n",
    "            href={link.href}\n",
    "            className={clsx(\n",
    "              'flex h-[48px] grow items-center justify-center gap-2 rounded-md bg-gray-50 p-3 text-sm font-medium hover:bg-sky-100 hover:text-blue-600 md:flex-none md:justify-start md:p-2 md:px-3',\n",
    "              {\n",
    "                'bg-sky-100 text-blue-600': pathname === link.href,\n",
    "              },\n",
    "            )}\n",
    "          >\n",
    "            <LinkIcon className=\"w-6\" />\n",
    "            <p className=\"hidden md:block\">{link.name}</p>\n",
    "          </Link>\n",
    "        );\n",
    "      })}\n",
    "    </>\n",
    "  );\n",
    "}"
   ]
  },
  {
   "cell_type": "markdown",
   "metadata": {},
   "source": [
    "Save and check your localhost. You should now see the active link highlighted in blue."
   ]
  },
  {
   "cell_type": "markdown",
   "metadata": {},
   "source": [
    "## <center>You've Completed Chapter 5</center>\n",
    "\n",
    "<center>You've learned how to link between pages and leverage client-side navigation in Next.js.</center>"
   ]
  },
  {
   "cell_type": "markdown",
   "metadata": {},
   "source": [
    "<center>\n",
    "Next Up\n",
    "\n",
    "**6: Setting Up Your Database**\n",
    "\n",
    "Let's create a database to start fetching real data!\n",
    "\n",
    "[<button>Start Chapter 6</button>](06_Setting_Up_Your_Database.ipynb)\n",
    "</center>"
   ]
  }
 ],
 "metadata": {
  "language_info": {
   "name": "python"
  }
 },
 "nbformat": 4,
 "nbformat_minor": 2
}
